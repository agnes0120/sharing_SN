{
 "cells": [
  {
   "cell_type": "markdown",
   "id": "ee9f0e68-1481-4d28-9abd-f8bf138f08e7",
   "metadata": {},
   "source": [
    "# Data Science Tools and Ecosystem"
   ]
  },
  {
   "cell_type": "markdown",
   "id": "b880df6a-4ac8-4c07-be37-5db349f686a2",
   "metadata": {},
   "source": [
    "## In this notebook, Data Science Tools and Ecosystems are summarized."
   ]
  },
  {
   "cell_type": "markdown",
   "id": "9587607e-d4a8-42dc-a7a2-f74e6621b184",
   "metadata": {},
   "source": [
    "**Objectives:**\n",
    "- List popular languages for data science\n",
    "- List commonly used libraries used by data scientists\n",
    "- List open source tools used by data scientists"
   ]
  },
  {
   "cell_type": "markdown",
   "id": "25cd6f9d-1bd3-408e-bc3a-17feb69e24ef",
   "metadata": {},
   "source": [
    "## Some of the popular languages that Data Scientist use are:\n",
    "\n",
    "1. R\n",
    "2. SQL\n",
    "3. Python\n",
    "4. Java"
   ]
  },
  {
   "cell_type": "markdown",
   "id": "6ff7eb10-9d49-46ae-ad21-13a2080083ab",
   "metadata": {},
   "source": [
    "## Some of the commonly used libraries used by Data Scientists include:\n",
    "\n",
    "1. Pandas\n",
    "2. NumPy\n",
    "3. TensorFlow"
   ]
  },
  {
   "cell_type": "markdown",
   "id": "dacc3a07-56d2-4cb5-b2c8-739bc972a27d",
   "metadata": {},
   "source": [
    "| Data Science Tools |\n",
    "| ------------------ |\n",
    "| MySQL |\n",
    "| MongoDB |\n",
    "| Hadoop |"
   ]
  },
  {
   "cell_type": "markdown",
   "id": "b6e54fb2-1fb6-4c79-864d-dc4ddc595c81",
   "metadata": {},
   "source": [
    "### Below are a few examples of evaluating arithmetic expressions in Python."
   ]
  },
  {
   "cell_type": "code",
   "execution_count": 3,
   "id": "8e78afe0-08af-49cf-a879-5f49e6165cce",
   "metadata": {
    "tags": []
   },
   "outputs": [
    {
     "data": {
      "text/plain": [
       "17"
      ]
     },
     "execution_count": 3,
     "metadata": {},
     "output_type": "execute_result"
    }
   ],
   "source": [
    "(3*4)+5\n",
    "# This is a simple arithmetic expression to multiply then add integers."
   ]
  },
  {
   "cell_type": "code",
   "execution_count": 11,
   "id": "0f75ed40-62ac-496d-99eb-2a31a924f0e6",
   "metadata": {
    "tags": []
   },
   "outputs": [
    {
     "name": "stdin",
     "output_type": "stream",
     "text": [
      "minutes :  200\n"
     ]
    },
    {
     "name": "stdout",
     "output_type": "stream",
     "text": [
      "3.3333333333333335\n"
     ]
    }
   ],
   "source": [
    "m=int(input(\"minutes : \"))\n",
    "hour=m/60\n",
    "print (hour)\n",
    "\n",
    "# This will convert 200 minutes to hours by dividing by 60."
   ]
  },
  {
   "cell_type": "markdown",
   "id": "e746c261-cfac-44e4-8a43-8d1ca5d02db7",
   "metadata": {},
   "source": [
    "## Author\n",
    "Yiting Huang"
   ]
  },
  {
   "cell_type": "code",
   "execution_count": null,
   "id": "f68540ce-e56d-4f52-8c78-1ba156ab89de",
   "metadata": {},
   "outputs": [],
   "source": []
  }
 ],
 "metadata": {
  "kernelspec": {
   "display_name": "Python",
   "language": "python",
   "name": "conda-env-python-py"
  },
  "language_info": {
   "codemirror_mode": {
    "name": "ipython",
    "version": 3
   },
   "file_extension": ".py",
   "mimetype": "text/x-python",
   "name": "python",
   "nbconvert_exporter": "python",
   "pygments_lexer": "ipython3",
   "version": "3.7.12"
  }
 },
 "nbformat": 4,
 "nbformat_minor": 5
}
